{
 "cells": [
  {
   "cell_type": "markdown",
   "id": "b0145e95-608b-49f4-8dab-7d8c84d014ac",
   "metadata": {},
   "source": [
    "## ASSIGNMENT"
   ]
  },
  {
   "cell_type": "markdown",
   "id": "3c479ef9-58ac-4e32-8701-d7f5cfe03170",
   "metadata": {},
   "source": [
    "<span style=color:red;font-size:50px>STATISTICS BASIC 2</span>"
   ]
  },
  {
   "cell_type": "markdown",
   "id": "06722cfb-d59b-4f34-a374-49b1c6a037af",
   "metadata": {},
   "source": [
    "<span style=color:green>Q1. What are the three measures of central tendency?</span>"
   ]
  },
  {
   "cell_type": "markdown",
   "id": "69fdf37a-a4b6-4908-becf-bedd6ee73259",
   "metadata": {},
   "source": [
    "Ans-"
   ]
  },
  {
   "cell_type": "markdown",
   "id": "b55c2c81-3ebf-42dc-b7d8-5bf646028e6a",
   "metadata": {},
   "source": [
    "The three measures of central tendency are:"
   ]
  },
  {
   "cell_type": "markdown",
   "id": "bf3e5a8a-00bc-4567-a7b0-35eb16f04b96",
   "metadata": {},
   "source": [
    "***Mean:***"
   ]
  },
  {
   "cell_type": "markdown",
   "id": "c84cedec-3673-4a85-b4d5-ce6618794c89",
   "metadata": {},
   "source": [
    " The mean, or average, is calculated by summing up all the values in a dataset and then dividing by the number of values. It is sensitive to extreme values, also known as outliers."
   ]
  },
  {
   "cell_type": "markdown",
   "id": "b4445918-0aa0-4b47-b2ab-8b70050fdd6b",
   "metadata": {},
   "source": [
    "***Median:***"
   ]
  },
  {
   "cell_type": "markdown",
   "id": "a8a2a7ac-68e5-4193-bc60-34bff475b362",
   "metadata": {},
   "source": [
    "The median is the middle value in a dataset when it is ordered from least to greatest. If there is an even number of values, the median is the average of the two middle values. The median is less affected by extreme values compared to the mean."
   ]
  },
  {
   "cell_type": "markdown",
   "id": "23b686d6-96a8-4989-be29-cfd3a9c9829b",
   "metadata": {},
   "source": [
    "***Mode:***"
   ]
  },
  {
   "cell_type": "markdown",
   "id": "feaebfe8-8ba7-4da4-922d-bf4ad3bacd2e",
   "metadata": {},
   "source": [
    "The mode is the value that appears most frequently in a dataset. A dataset may have one mode (unimodal)more than one mode (multimodal), or no mode at all. Unlike the mean and median, the mode is not necessarily unique.mm"
   ]
  },
  {
   "cell_type": "markdown",
   "id": "2d57ca59-21ab-44b9-b128-9e3d6cff160d",
   "metadata": {},
   "source": [
    "<span style=color:green>Q2. What is the difference between the mean, median, and mode? How are they used to measure the\n",
    "central tendency of a dataset?</span>"
   ]
  },
  {
   "cell_type": "markdown",
   "id": "e705d617-ff02-4a1f-8118-b799a3a92b83",
   "metadata": {},
   "source": [
    "Ans-"
   ]
  },
  {
   "cell_type": "markdown",
   "id": "44d79921-ac1a-48fd-9f1d-6f092e469abf",
   "metadata": {},
   "source": [
    "The mean, median, and mode are measures of central tendency used to describe the center or typical value of a dataset. Here are the key differences and applications of each:"
   ]
  },
  {
   "cell_type": "markdown",
   "id": "60940828-69a5-49b0-973d-0ff39ab1d9a4",
   "metadata": {},
   "source": [
    "***MEAN:***"
   ]
  },
  {
   "cell_type": "markdown",
   "id": "3a61ffae-6ab5-4d0c-a97d-d018bf6e6c7f",
   "metadata": {},
   "source": [
    "***Calculation:*** The mean is calculated by summing up all the values in a dataset and then dividing by the number of values."
   ]
  },
  {
   "cell_type": "markdown",
   "id": "d3bce0f2-fc52-44c1-b6c6-460b96492b85",
   "metadata": {},
   "source": [
    "***Sensitivity to Outliers:*** The mean is sensitive to extreme values (outliers), as it takes into account every value in the dataset."
   ]
  },
  {
   "cell_type": "markdown",
   "id": "4394c3bc-b77d-41f0-9de4-7b7335f64a8c",
   "metadata": {},
   "source": [
    "***Use:*** The mean is useful when the distribution of data is approximately symmetrical and not skewed by outliers. It provides a balance point for the data."
   ]
  },
  {
   "cell_type": "markdown",
   "id": "9034b52d-03b3-4494-b6f1-475efd1e09cf",
   "metadata": {},
   "source": [
    "***MEDIAN:***"
   ]
  },
  {
   "cell_type": "markdown",
   "id": "32afdf0c-a2bb-482f-9990-18f75c429fdf",
   "metadata": {},
   "source": [
    "***Calculation:*** The median is the middle value when the data is ordered from least to greatest. If there is an even number of values, the median is the average of the two middle values."
   ]
  },
  {
   "cell_type": "markdown",
   "id": "6881466c-a3d5-4c60-a5d9-4b1bd46aa974",
   "metadata": {},
   "source": [
    "***Sensitivity to Outliers:*** The median is less sensitive to extreme values compared to the mean. It only depends on the order of values, not their actual numerical values."
   ]
  },
  {
   "cell_type": "markdown",
   "id": "bae7644e-cd79-49d1-bd98-76b3a64f61e0",
   "metadata": {},
   "source": [
    "***Use:*** The median is useful when dealing with skewed distributions or datasets containing outliers. It provides a measure of the central position that is not affected by extreme values."
   ]
  },
  {
   "cell_type": "markdown",
   "id": "035625b6-1e0d-44aa-8095-af157db5b765",
   "metadata": {},
   "source": [
    "***MODE:***"
   ]
  },
  {
   "cell_type": "markdown",
   "id": "fce693c7-1276-441f-8ad7-bf4e37779cb8",
   "metadata": {},
   "source": [
    "***Calculation:*** The mode is the value that appears most frequently in a dataset."
   ]
  },
  {
   "cell_type": "markdown",
   "id": "9fe1eb57-b332-4267-bce5-6ff6213400a9",
   "metadata": {},
   "source": [
    "***Sensitivity to Outliers:*** The mode is not influenced by extreme values; it is determined solely by the frequency of values."
   ]
  },
  {
   "cell_type": "markdown",
   "id": "3ac10d9b-65a3-4f43-b74f-2f5b1079bf9a",
   "metadata": {},
   "source": [
    "***Use:*** The mode is useful for categorical data or datasets with distinct peaks. It is less commonly used for continuous data, especially when there is no clear value that dominates the dataset."
   ]
  },
  {
   "cell_type": "markdown",
   "id": "95e5f63d-31c0-4369-919f-7ce1c6e6369c",
   "metadata": {},
   "source": [
    "<span style=color:green>Q3. Measure the three measures of central tendency for the given height data:\n",
    "\n",
    " [178,177,176,177,178.2,178,175,179,180,175,178.9,176.2,177,172.5,178,176.5]</span>"
   ]
  },
  {
   "cell_type": "markdown",
   "id": "659e2f00-01e2-4145-8a9b-0c28c2dae985",
   "metadata": {},
   "source": [
    "Ans-"
   ]
  },
  {
   "cell_type": "markdown",
   "id": "c6e43de9-beb6-4ec6-ac44-f1f64c520497",
   "metadata": {},
   "source": [
    "\n",
    "Let's calculate the three measures of central tendency (mean, median, and mode) for the given height data:\n",
    "\n",
    "Height data: [178, 177, 176, 177, 178.2, 178, 175, 179, 180, 175, 178.9, 176.2, 177, 172.5, 178, 176.5]\n",
    "\n",
    "Mean:\n",
    "\n",
    "Mean\n",
    "=\n",
    "178\n",
    "+\n",
    "177\n",
    "+\n",
    "176\n",
    "+\n",
    "177\n",
    "+\n",
    "178.2\n",
    "+\n",
    "178\n",
    "+\n",
    "175\n",
    "+\n",
    "179\n",
    "+\n",
    "180\n",
    "+\n",
    "175\n",
    "+\n",
    "178.9\n",
    "+\n",
    "176.2\n",
    "+\n",
    "177\n",
    "+\n",
    "172.5\n",
    "+\n",
    "178\n",
    "+\n",
    "176.5\n",
    "16\n",
    "Mean= \n",
    "16\n",
    "178+177+176+177+178.2+178+175+179+180+175+178.9+176.2+177+172.5+178+176.5\n",
    "​\n",
    " \n",
    "Calculating this gives the mean height.\n",
    "\n",
    "Median:\n",
    "\n",
    "First, we need to order the data: \n",
    "172.5\n",
    ",\n",
    "175\n",
    ",\n",
    "176\n",
    ",\n",
    "176.2\n",
    ",\n",
    "176.5\n",
    ",\n",
    "177\n",
    ",\n",
    "177\n",
    ",\n",
    "177\n",
    ",\n",
    "178\n",
    ",\n",
    "178\n",
    ",\n",
    "178\n",
    ",\n",
    "178.2\n",
    ",m\n",
    "178.9\n",
    ",\n",
    "179\n",
    ",\n",
    "180\n",
    "172.5,175,176,176.2,176.5,177,177,177,178,178,178,178.2,178.9,179,180\n",
    "The median is the middle value, which in this case is the 8th value (counting from the lowest): \n",
    "Median\n",
    "=\n",
    "177\n",
    "Median=177 (since there are an even number of values, it's the average of the 8th and 9th values).\n",
    "Mode:\n",
    "\n",
    "The mode is the value that appears most frequently. In this dataset, there might be no mode, one mode (unimodal), or multiple modes (multimodal).\n",
    "Performing these calculations will provide the mean, median, and mode for the given height data. If you would like me to do the calculations, or if you have a specific question about the process, please let me know!"
   ]
  },
  {
   "cell_type": "markdown",
   "id": "fabcd346-f2cb-402b-98c7-3c2ef8d55d60",
   "metadata": {},
   "source": [
    "<span style=color:green>Q4. Find the standard deviation for the given data:\n",
    "\n",
    "[178,177,176,177,178.2,178,175,179,180,175,178.9,176.2,177,172.5,178,176.5]</span>"
   ]
  },
  {
   "cell_type": "markdown",
   "id": "5dff7943-4b8f-4e24-bc00-54909f492289",
   "metadata": {},
   "source": [
    "Ans-"
   ]
  },
  {
   "cell_type": "markdown",
   "id": "eae55ecc-0fe3-48be-9b66-1363b0675b2e",
   "metadata": {},
   "source": [
    "Calculate the Mean (μ):\n",
    "\n",
    "Mean\n",
    "=\n",
    "178\n",
    "+\n",
    "177\n",
    "+\n",
    "176\n",
    "+\n",
    "177\n",
    "+\n",
    "178.2\n",
    "+\n",
    "178\n",
    "+\n",
    "175\n",
    "+\n",
    "179\n",
    "+\n",
    "180\n",
    "+\n",
    "175\n",
    "+\n",
    "178.9\n",
    "+\n",
    "176.2\n",
    "+\n",
    "177\n",
    "+\n",
    "172.5\n",
    "+\n",
    "178\n",
    "+\n",
    "176.5\n",
    "16\n",
    "Mean= \n",
    "16\n",
    "178+177+176+177+178.2+178+175+179+180+175+178.9+176.2+177+172.5+178+176.5\n",
    "​\n",
    " \n",
    "Calculate the Squared Deviations from the Mean:\n",
    "For each data point, subtract the mean and square the result.\n",
    "\n",
    "Squared Deviations\n",
    "=\n",
    "(\n",
    "�\n",
    "�\n",
    "−\n",
    "Mean\n",
    ")\n",
    "2\n",
    "Squared Deviations=(X \n",
    "i\n",
    "​\n",
    " −Mean) \n",
    "2\n",
    " \n",
    "Calculate the Variance (σ²):\n",
    "\n",
    "Variance\n",
    "=\n",
    "∑\n",
    "Squared Deviations\n",
    "�\n",
    "Variance= \n",
    "N\n",
    "∑Squared Deviations\n",
    "​\n",
    " \n",
    "where \n",
    "�\n",
    "N is the number of data points.\n",
    "\n",
    "Calculate the Standard Deviation (σ):\n",
    "\n",
    "Standard Deviation\n",
    "=\n",
    "Variance\n",
    "Standard Deviation= \n",
    "Variance\n",
    "​\n",
    " \n",
    "Now, let's calculate each step:\n",
    "\n",
    "Mean: Calculate the mean.\n",
    "Squared Deviations: Subtract the mean from each data point, square the result.\n",
    "Variance: Find the average of the squared deviations.\n",
    "Standard Deviation: Take the square root of the variance."
   ]
  },
  {
   "cell_type": "markdown",
   "id": "58ce42af-55be-4758-9f32-27ce87cd13c1",
   "metadata": {},
   "source": [
    "<span style=color:green>Q5. How are measures of dispersion such as range, variance, and standard deviation used to describe\n",
    "the spread of a dataset? Provide an example.\n",
    "\n",
    "</span>"
   ]
  },
  {
   "cell_type": "markdown",
   "id": "9297d080-1d2f-4361-b682-ae77091b36ea",
   "metadata": {},
   "source": [
    "Ans-"
   ]
  },
  {
   "cell_type": "markdown",
   "id": "19a9a691-1127-4505-9ed6-5112875182d1",
   "metadata": {},
   "source": [
    "***Range:***"
   ]
  },
  {
   "cell_type": "markdown",
   "id": "8d7688c4-2ef4-4645-8237-fb66083d37fb",
   "metadata": {},
   "source": [
    "Definition: The range is the difference between the maximum and minimum values in a dataset.\n",
    "Use: It gives a simple, easy-to-understand measure of how spread out the values in a dataset are.\n",
    "Example: Consider two datasets:\n",
    "Dataset A: [10, 15, 12, 18, 9]\n",
    "Dataset B: [30, 35, 32, 38, 29]\n",
    "The range for Dataset A is \n",
    "18\n",
    "−\n",
    "9\n",
    "=\n",
    "9\n",
    "18−9=9, and for Dataset B, it is \n",
    "38\n",
    "−\n",
    "29\n",
    "=\n",
    "9\n",
    "38−29=9. Both datasets have the same range, but the values in Dataset B are higher."
   ]
  },
  {
   "cell_type": "markdown",
   "id": "00510e39-288e-4830-a788-60a28c128fcf",
   "metadata": {},
   "source": [
    "***Variance:***"
   ]
  },
  {
   "cell_type": "markdown",
   "id": "976cf081-58b4-444d-81ac-f545ed8bbe5e",
   "metadata": {},
   "source": [
    "Definition: Variance is the average of the squared differences from the mean.\n",
    "Use: It provides a measure of how much each data point in a dataset differs from the mean, considering both the magnitude and direction of the differences.\n",
    "Example: Consider two datasets:\n",
    "Dataset X: [5, 8, 7, 6, 9]\n",
    "Dataset Y: [20, 22, 18, 24, 21]\n",
    "The variance for Dataset X is smaller than the variance for Dataset Y, indicating that the values in Dataset X are closer to the mean."
   ]
  },
  {
   "cell_type": "markdown",
   "id": "a481a199-7954-47de-b812-07faa6adcbc0",
   "metadata": {},
   "source": [
    "***Standard deviation:***"
   ]
  },
  {
   "cell_type": "markdown",
   "id": "f95a939a-b531-44ec-9662-5a7d782d249d",
   "metadata": {},
   "source": [
    "Definition: The standard deviation is the square root of the variance. It represents the average amount by which each data point in a dataset differs from the mean.\n",
    "Use: It provides a more interpretable measure of dispersion than variance, as it is in the same unit as the original data.\n",
    "Example: Consider two datasets:\n",
    "Dataset P: [12, 15, 14, 13, 16]\n",
    "Dataset Q: [30, 35, 32, 38, 29]\n",
    "While both datasets may have the same variance, the standard deviation for Dataset P is likely to be smaller, indicating less variability in the values."
   ]
  },
  {
   "cell_type": "markdown",
   "id": "d3aca155-29be-47a2-8049-d0a6599a29e8",
   "metadata": {},
   "source": [
    "<span style=color:green>Q6. What is a Venn diagram?</span>"
   ]
  },
  {
   "cell_type": "markdown",
   "id": "0a6efd88-021f-4f42-a637-05d9ae846f2f",
   "metadata": {},
   "source": [
    "Ans-"
   ]
  },
  {
   "cell_type": "markdown",
   "id": "ae7f6aba-3516-4a99-a811-bb19f30cf3a5",
   "metadata": {},
   "source": [
    "A Venn diagram is a visual representation of the relationships between sets. It uses circles to depict these sets, and the overlap between circles represents the elements that are common to those sets. The primary purpose of a Venn diagram is to illustrate the logical relationships between different groups or sets."
   ]
  },
  {
   "cell_type": "markdown",
   "id": "1605390e-2226-489a-9f2b-3e5e27c69dd5",
   "metadata": {},
   "source": [
    "***Sets:*** Each circle in a Venn diagram represents a set. The elements of each set are enclosed within the circle."
   ]
  },
  {
   "cell_type": "markdown",
   "id": "86fe6793-0aea-46a4-a875-d82a3514bb23",
   "metadata": {},
   "source": [
    "***Overlap:*** Overlapping regions between circles represent the common elements shared by the sets. The extent of the overlap indicates the degree of intersection between the sets."
   ]
  },
  {
   "cell_type": "markdown",
   "id": "5766d2de-64ec-47a3-84fa-0899e63f26d4",
   "metadata": {},
   "source": [
    "***Universe:*** The entire space within the boundaries of the diagram is often referred to as the universal set. It encompasses all possible elements relevant to the context of the diagram."
   ]
  },
  {
   "cell_type": "raw",
   "id": "1da0613c-23ad-4569-a327-11cf88af3f12",
   "metadata": {},
   "source": [
    "     A            B\n",
    "   _______     _______\n",
    "  |       |   |       |\n",
    "  |   A   |   |   B   |\n",
    "  |_______|   |_______|\n"
   ]
  },
  {
   "cell_type": "markdown",
   "id": "3da4f223-ba15-4a73-b1bd-54fe19cc8261",
   "metadata": {},
   "source": [
    "In this diagram"
   ]
  },
  {
   "cell_type": "markdown",
   "id": "515ca631-e1ec-4fb3-a11d-3fa0fdc74909",
   "metadata": {},
   "source": [
    "The left circle represents set A.\n",
    "The right circle represents set B.\n",
    "The overlapping region contains elements that belong to both A and B."
   ]
  },
  {
   "cell_type": "markdown",
   "id": "2eefd00e-9fce-4797-903e-3aa475babbd5",
   "metadata": {},
   "source": [
    "<span style=color:green>Q7. For the two given sets A = (2,3,4,5,6,7) & B = (0,2,6,8,10). Find:\n",
    "\n",
    "(i) \tA B\n",
    "\n",
    "(ii)\tA ⋃ B</span>"
   ]
  },
  {
   "cell_type": "markdown",
   "id": "82878c16-f476-4e63-a085-b11a3891a0c4",
   "metadata": {},
   "source": [
    "Ans-"
   ]
  },
  {
   "cell_type": "code",
   "execution_count": 3,
   "id": "1e644b73-eb56-4ef0-abb9-49d5809b79f9",
   "metadata": {},
   "outputs": [
    {
     "name": "stdout",
     "output_type": "stream",
     "text": [
      "Intersection (A ∩ B): {2, 6}\n",
      "Union (A ∪ B): {0, 2, 3, 4, 5, 6, 7, 8, 10}\n"
     ]
    }
   ],
   "source": [
    "# Given sets\n",
    "A = {2, 3, 4, 5, 6, 7}\n",
    "B = {0, 2, 6, 8, 10}\n",
    "\n",
    "# Calculate intersection (A ∩ B)\n",
    "intersection_result = A.intersection(B)\n",
    "\n",
    "# Calculate union (A ∪ B)\n",
    "union_result = A.union(B)\n",
    "\n",
    "# Print the results\n",
    "print(f\"Intersection (A ∩ B): {intersection_result}\")\n",
    "print(f\"Union (A ∪ B): {union_result}\")\n"
   ]
  },
  {
   "cell_type": "markdown",
   "id": "4d46dd10-27b3-4035-a04e-d37a4ee67f5b",
   "metadata": {},
   "source": [
    "<span style=color:green>\n",
    "Q8.Skewness is a statistical measure that describes the asymmetry of a probability distribution or the extent and direction of skew (departure from horizontal symmetry) in a dataset. In other words, it indicates whether the data is skewed to the left or right, or if it is symmetric.\n",
    "\n",
    "There are three main types of skewness:</span>"
   ]
  },
  {
   "cell_type": "markdown",
   "id": "01b6b969-94aa-4f4e-9f12-0f8d2cb69b44",
   "metadata": {},
   "source": [
    "Ans-"
   ]
  },
  {
   "cell_type": "markdown",
   "id": "6a5c51a4-a18a-4fca-a1b8-5594871cb167",
   "metadata": {},
   "source": [
    "\n",
    "Skewness is a statistical measure that describes the asymmetry of a probability distribution or the extent and direction of skew (departure from horizontal symmetry) in a dataset. In other words, it indicates whether the data is skewed to the left or right, or if it is symmetric.\n",
    "\n",
    "There are three main types of skewness:"
   ]
  },
  {
   "cell_type": "markdown",
   "id": "fe79be28-5248-400f-aa09-03d5d4eefd51",
   "metadata": {},
   "source": [
    "***Negative Skewness (Left Skewness):***"
   ]
  },
  {
   "cell_type": "markdown",
   "id": "68cbab7d-5ffa-43b3-ae0b-2d852f7bef2b",
   "metadata": {},
   "source": [
    "The left tail is longer or fatter than the right tail.\n",
    "The majority of the data points are concentrated on the right side of the distribution.\n",
    "The mean is typically less than the median."
   ]
  },
  {
   "cell_type": "markdown",
   "id": "df9c2d75-c70d-4bd0-9826-30c0d813e488",
   "metadata": {},
   "source": [
    "***Zero Skewness (Symmetric):***"
   ]
  },
  {
   "cell_type": "markdown",
   "id": "b74375d5-f8d3-4452-9896-481105936c45",
   "metadata": {},
   "source": [
    "The distribution is perfectly symmetric.\n",
    "The left and right tails are mirror images of each other.\n",
    "The mean is equal to the median."
   ]
  },
  {
   "cell_type": "markdown",
   "id": "40820124-64aa-4071-b738-a636799db72e",
   "metadata": {},
   "source": [
    "***Positive Skewness (Right Skewness):***"
   ]
  },
  {
   "cell_type": "markdown",
   "id": "ffad479e-9a37-45b3-ac77-09efad5280bf",
   "metadata": {},
   "source": [
    "The right tail is longer or fatter than the left tail.\n",
    "The majority of the data points are concentrated on the left side of the distribution.\n",
    "The mean is typically greater than the median."
   ]
  },
  {
   "cell_type": "markdown",
   "id": "dee39ed5-d701-4248-b875-33add2589396",
   "metadata": {},
   "source": [
    "<span style=color:green>Q9. If a data is right skewed then what will be the position of median with respect to mean?</span>"
   ]
  },
  {
   "cell_type": "markdown",
   "id": "55bdc6b5-c2f0-4fec-8fae-e41382a5d2be",
   "metadata": {},
   "source": [
    "Ans-"
   ]
  },
  {
   "cell_type": "markdown",
   "id": "76b6bd15-bee2-42e6-b730-658a3f05cd68",
   "metadata": {},
   "source": [
    "\n",
    "In a right-skewed distribution, also known as positively skewed distribution, the tail on the right side is longer or fatter than the left side. This implies that there are some relatively high values that are pulling the mean to the right."
   ]
  },
  {
   "cell_type": "markdown",
   "id": "fdd4d794-e9c1-4a0d-8dc7-f19b8514fda4",
   "metadata": {},
   "source": [
    "***Mean:*** The mean is typically greater than the median."
   ]
  },
  {
   "cell_type": "markdown",
   "id": "512c75dd-a04f-4b62-8243-1449ca964fbf",
   "metadata": {},
   "source": [
    "***Median:*** The median is less than the mean."
   ]
  },
  {
   "cell_type": "markdown",
   "id": "9d75be5d-a057-4fb4-b598-34d323406072",
   "metadata": {},
   "source": [
    "The reason for this relationship is that the mean is sensitive to extreme values or outliers, and in a right-skewed distribution, the presence of relatively high values in the right tail pulls the mean in that direction. The median, being the middle value when the data is ordered, is less affected by extreme values, and it gives a better representation of the central tendency in skewed datasets.\n",
    "\n",
    "So, in summary, in a right-skewed distribution, the mean will be greater than the median."
   ]
  },
  {
   "cell_type": "markdown",
   "id": "4aa99549-530c-4cd2-b76b-5440227587e1",
   "metadata": {},
   "source": [
    "<span style=color:green>Q10. Explain the difference between covariance and correlation. How are these measures used in\n",
    "statistical analysis?</span>"
   ]
  },
  {
   "cell_type": "markdown",
   "id": "f9f5fea9-a621-4d1c-928d-678af0e3e806",
   "metadata": {},
   "source": [
    "Ans-"
   ]
  },
  {
   "cell_type": "markdown",
   "id": "6a72c6d9-5425-47f1-97b6-9b95d09bc7df",
   "metadata": {},
   "source": [
    "***Covariance:***"
   ]
  },
  {
   "cell_type": "markdown",
   "id": "c7b86106-5c80-40ed-919e-3a489dcadeac",
   "metadata": {},
   "source": [
    "***Definition:*** Covariance measures the degree to which two variables change together. It indicates whether an increase in one variable is associated with an increase or decrease in another variable."
   ]
  },
  {
   "cell_type": "markdown",
   "id": "d0ae9e69-ac5a-4613-b268-67f81dd91714",
   "metadata": {},
   "source": [
    "Scale: The scale of covariance is not standardized, so it can take any value, positive or negative, depending on the units of the variables."
   ]
  },
  {
   "cell_type": "markdown",
   "id": "b52c70f6-34e4-428c-9183-7b0df7b5f5fe",
   "metadata": {},
   "source": [
    "***Correlation:***"
   ]
  },
  {
   "cell_type": "markdown",
   "id": "2011ae97-0a71-4ac6-a1b9-9cdbdf23d934",
   "metadata": {},
   "source": [
    "***Definition:*** Correlation is a standardized measure of the strength and direction of the linear relationship between two variables. It ranges from -1 to 1, with -1 indicating a perfect negative linear relationship, 1 indicating a perfect positive linear relationship, and 0 indicating no linear relationship."
   ]
  },
  {
   "cell_type": "markdown",
   "id": "23607bd9-eca5-4918-a791-90f5c29c03e8",
   "metadata": {},
   "source": [
    "Scale: The scale of correlation is standardized, ranging from -1 to 1."
   ]
  },
  {
   "cell_type": "markdown",
   "id": "4f467f22-a787-436a-a521-2e49c1821ad5",
   "metadata": {},
   "source": [
    "***Differences***"
   ]
  },
  {
   "cell_type": "markdown",
   "id": "8fc97663-3fcb-44a0-8767-8fc78d61a4fe",
   "metadata": {},
   "source": [
    "***Scale:*** Covariance is not standardized and can take any real value, positive or negative. Correlation is standardized and always falls between -1 and 1.\n",
    "\n",
    "***Interpretability:*** Correlation is more interpretable since it provides a standardized measure of the strength and direction of the linear relationship, making it easier to compare relationships between different pairs of variables.\n",
    "\n",
    "***Unit Independence:*** Correlation is unitless and scale-independent, making it easier to compare relationships between variables measured in different units. Covariance is influenced by the scale of the variables."
   ]
  },
  {
   "cell_type": "markdown",
   "id": "be1f3f23-d725-4cd7-afe0-411db4716861",
   "metadata": {},
   "source": [
    "***Use in Statistical Analysis:***"
   ]
  },
  {
   "cell_type": "markdown",
   "id": "2689e68e-cf2e-4005-b815-e63e219093b7",
   "metadata": {},
   "source": [
    "***Covariance:*** Covariance is used to assess the direction of the relationship between two variables. A positive covariance indicates a positive relationship, while a negative covariance indicates a negative relationship. However, the magnitude of the covariance is not easily interpretable and can be influenced by the scales of the variables.\n",
    "\n",
    "***Correlation:*** Correlation is widely used in statistical analysis to quantify and compare the strength and direction of linear relationships between variables. It is especially useful when comparing relationships between variables measured on different scales or in different units. The correlation coefficient provides a standardized measure that is easy to interpret and allows for comparisons across different datasets."
   ]
  },
  {
   "cell_type": "markdown",
   "id": "521bba28-4e58-4b6f-b4cf-d11d4add55d6",
   "metadata": {},
   "source": [
    "<span style=color:green>Q11. What is the formula for calculating the sample mean? Provide an example calculation for a\n",
    "dataset.</span>"
   ]
  },
  {
   "cell_type": "markdown",
   "id": "7914bc4c-693d-4ac3-ada6-6a43ce5c31f1",
   "metadata": {},
   "source": [
    "Ans-"
   ]
  },
  {
   "cell_type": "markdown",
   "id": "6d8d5fac-cc23-4caa-b2dd-dd20bf892c62",
   "metadata": {},
   "source": [
    "The sample mean is the sum of the values in a dataset divided by the number of values in the dataset.  \n",
    "The formula for the sample mean is: \\(\\overline{x}=\\frac{\\sum \\limits _{i=1}^{n}x_{i}}{n}\\) \n",
    "where: \\(\\overline{x}\\) is the sample mean \\(x_{i}\\) is a value in the dataset \\(n\\) is the number of values in the dataset For example, if the dataset is {1, 2, 3, 4, 5}, then the sample mean is: \\(\\overline{x}=\\frac{1+2+3+4+5}{5}=3\\) The sample mean is a measure of central tendency, which means that it is a measure of the center of a dataset. The sample mean can be used to compare different datasets and to identify outliers in a dataset."
   ]
  },
  {
   "cell_type": "markdown",
   "id": "676e1baa-a73d-4c0b-a7e7-85f12c8eefa5",
   "metadata": {},
   "source": [
    "<span style=color:green>Q12. For a normal distribution data what is the relationship between its measure of central tendency?<?span>"
   ]
  },
  {
   "cell_type": "markdown",
   "id": "98ab522e-3125-4bdb-8ec4-58c000af1bc1",
   "metadata": {},
   "source": [
    "Ans-"
   ]
  },
  {
   "cell_type": "markdown",
   "id": "d700a01b-ef1d-4034-aa07-79975b7dbea2",
   "metadata": {},
   "source": [
    "For a normal distribution, which is symmetric and bell-shaped, the three main measures of central tendency—mean, median, and mode—share a specific relationship:"
   ]
  },
  {
   "cell_type": "markdown",
   "id": "566ac2c7-f4f4-4a0d-a035-aa27efc16696",
   "metadata": {},
   "source": [
    "***Mean (μ):***"
   ]
  },
  {
   "cell_type": "markdown",
   "id": "0714adb2-984d-4947-8b52-c38b7bfd99e2",
   "metadata": {},
   "source": [
    "The mean of a normal distribution is located at the center of the distribution.\n",
    "The mean is equal to the median in a perfectly symmetrical normal distribution."
   ]
  },
  {
   "cell_type": "markdown",
   "id": "38d10e18-142c-492c-9b48-7260762192b4",
   "metadata": {},
   "source": [
    "***Median:***"
   ]
  },
  {
   "cell_type": "markdown",
   "id": "194a010d-3894-4bb7-b647-c2dc972f49db",
   "metadata": {},
   "source": [
    "The median of a normal distribution is also located at the center of the distribution.\n",
    "In a perfectly symmetrical normal distribution, the median is equal to the mean."
   ]
  },
  {
   "cell_type": "markdown",
   "id": "9e635459-1431-4a7e-8916-8ec6a086121c",
   "metadata": {},
   "source": [
    "***Mode:***"
   ]
  },
  {
   "cell_type": "markdown",
   "id": "4387f3bc-4ef7-401a-9346-7c509a87678d",
   "metadata": {},
   "source": [
    "In a normal distribution, the mode is located at the peak or highest point of the distribution.\n",
    "In a perfectly symmetrical normal distribution, the mode is also equal to the mean and median."
   ]
  },
  {
   "cell_type": "markdown",
   "id": "105f1fc2-eaa8-47a9-b0c3-77d051bf2878",
   "metadata": {},
   "source": [
    "In summary, for a normal distribution:"
   ]
  },
  {
   "cell_type": "markdown",
   "id": "587aafe4-fe37-4e31-bb7c-f4804a8dd188",
   "metadata": {},
   "source": [
    "***Mean=Median=Mode***"
   ]
  },
  {
   "cell_type": "markdown",
   "id": "6d938674-fcf3-4ff8-a1c6-c6903d6fbe2c",
   "metadata": {},
   "source": [
    "This equality holds true in the case of a perfectly symmetrical normal distribution. However, in real-world situations, data may not be perfectly normal, and there could be slight variations in the values of the mean, median, and mode. "
   ]
  },
  {
   "cell_type": "markdown",
   "id": "a0176460-6e09-491d-be9b-ed5a7fa94f7c",
   "metadata": {},
   "source": [
    "<span style=color:green>Q13. How is covariance different from correlation?</span>"
   ]
  },
  {
   "cell_type": "markdown",
   "id": "42758d61-eb3f-4206-bf8c-2801c7bceeb1",
   "metadata": {},
   "source": [
    "Ans-"
   ]
  },
  {
   "cell_type": "markdown",
   "id": "73fe0e73-cdd0-40f3-a6c2-97678a8ae1fb",
   "metadata": {},
   "source": [
    "***Definition:***"
   ]
  },
  {
   "cell_type": "markdown",
   "id": "680aec5f-2254-422d-bc71-854fcdd3473e",
   "metadata": {},
   "source": [
    "***Covariance:*** Covariance measures the degree to which two variables change together. It indicates whether an increase in one variable is associated with an increase or decrease in another variable.\n",
    "\n",
    "***Correlation:*** Correlation is a standardized measure of the strength and direction of the linear relationship between two variables. It ranges from -1 to 1, with -1 indicating a perfect negative linear relationship, 1 indicating a perfect positive linear relationship, and 0 indicating no linear relationship."
   ]
  },
  {
   "cell_type": "markdown",
   "id": "e4f6a6c6-70be-4dfd-8d34-bbe98bbb88a6",
   "metadata": {},
   "source": [
    "***Scale:***"
   ]
  },
  {
   "cell_type": "markdown",
   "id": "4a45d8fc-3aa0-4534-b3a6-30ae128461f7",
   "metadata": {},
   "source": [
    "***Covariance:*** The scale of covariance is not standardized, so it can take any real value, positive or negative, depending on the units of the variables.\n",
    "\n",
    "***Correlation:*** The scale of correlation is standardized, ranging from -1 to 1. This makes correlation more interpretable and suitable for comparing relationships between different pairs of variables."
   ]
  },
  {
   "cell_type": "markdown",
   "id": "297e120b-b855-44db-a684-a983785f1335",
   "metadata": {},
   "source": [
    "***Units:***"
   ]
  },
  {
   "cell_type": "markdown",
   "id": "30bda18b-441f-4d3e-8342-807cf014997c",
   "metadata": {},
   "source": [
    "***Covariance:*** The units of covariance are the product of the units of the two variables.\n",
    "***Correlation:*** Correlation is unitless and scale-independent, making it easier to compare relationships between variables measured in different units."
   ]
  },
  {
   "cell_type": "markdown",
   "id": "4cf58ead-96a0-4336-90d1-7dbb739ffc8e",
   "metadata": {},
   "source": [
    "***Range:***"
   ]
  },
  {
   "cell_type": "markdown",
   "id": "31385770-a7ed-4e7c-aece-3242df248e24",
   "metadata": {},
   "source": [
    "***Covariance:*** Covariance can take any real value, positive or negative.\n",
    "\n",
    "***Correlation:*** Correlation always falls between -1 and 1."
   ]
  },
  {
   "cell_type": "markdown",
   "id": "c3524355-6f8e-4027-84c1-3bad4735c408",
   "metadata": {},
   "source": [
    "***Normalization:***"
   ]
  },
  {
   "cell_type": "markdown",
   "id": "1bb3ebf9-d7f4-4ebb-a682-a4ddfbd232ba",
   "metadata": {},
   "source": [
    "***Covariance:*** Covariance is not normalized, and its value depends on the scales of the variables.\n",
    "\n",
    "***Correlation:*** Correlation is normalized, allowing for a standardized comparison of relationships."
   ]
  },
  {
   "cell_type": "markdown",
   "id": "5b499d1c-0b59-4337-90f6-b9627f7e4bbf",
   "metadata": {},
   "source": [
    "<span style=color:green>Q14. How do outliers affect measures of central tendency and dispersion? Provide an example.</span>"
   ]
  },
  {
   "cell_type": "markdown",
   "id": "8fb1bf14-bb6a-45dc-82e8-8d4accef9c24",
   "metadata": {},
   "source": [
    "Ans-"
   ]
  },
  {
   "cell_type": "markdown",
   "id": "c5356bda-637b-4ce2-8abb-01ca956c4ee4",
   "metadata": {},
   "source": [
    "***Measures of central tendency:***"
   ]
  },
  {
   "cell_type": "markdown",
   "id": "85a77b9b-4eb0-49d5-ad2b-522092cc9ddc",
   "metadata": {},
   "source": [
    "***Mean:*** Outliers can have a substantial impact on the mean because the mean is sensitive to extreme values. A single extreme value can pull the mean in its direction.\n",
    "\n",
    "***Median:*** The median is less affected by outliers since it only depends on the order of values. However, extremely large or small values can still influence the median, particularly in small datasets."
   ]
  },
  {
   "cell_type": "markdown",
   "id": "1134050d-818a-456f-a14a-14e45103a05f",
   "metadata": {},
   "source": [
    "***Measures and Dispersion:***"
   ]
  },
  {
   "cell_type": "markdown",
   "id": "b06e6729-cf46-495b-b04d-6b826e77127b",
   "metadata": {},
   "source": [
    "***Range:*** Outliers can greatly affect the range because the range is the difference between the maximum and minimum values. If there are outliers, the range may be much larger than it would be without them.\n",
    "\n",
    "***Variance and Standard Deviation:*** Outliers can increase the variance and standard deviation because these measures consider the squared differences between each data point and the mean. Outliers with large deviations from the mean contribute significantly to these calculations."
   ]
  },
  {
   "cell_type": "markdown",
   "id": "64bc0028-76ff-440d-bb21-094866eedc1b",
   "metadata": {},
   "source": [
    "***Example:***"
   ]
  },
  {
   "cell_type": "code",
   "execution_count": 8,
   "id": "956c11fc-446e-42b9-b06f-9052ae0d30c4",
   "metadata": {},
   "outputs": [
    {
     "name": "stdout",
     "output_type": "stream",
     "text": [
      "Without Outlier:\n",
      "Mean: 20.0\n",
      "Median: 20.0\n",
      "Range: 20\n",
      "Standard Deviation: 7.905694150420948\n",
      "\n",
      "With Outlier:\n",
      "Mean: 50.0\n",
      "Median: 22.5\n",
      "Range: 190\n",
      "Standard Deviation: 73.824115301167\n"
     ]
    }
   ],
   "source": [
    "import numpy as np\n",
    "\n",
    "# Dataset without outlier\n",
    "data_without_outlier = np.array([10, 15, 20, 25, 30])\n",
    "\n",
    "# Dataset with outlier\n",
    "data_with_outlier = np.array([10, 15, 20, 25, 30, 200])\n",
    "\n",
    "# Calculate measures for the dataset without outlier\n",
    "mean_without_outlier = np.mean(data_without_outlier)\n",
    "median_without_outlier = np.median(data_without_outlier)\n",
    "range_without_outlier = np.ptp(data_without_outlier)  # ptp: peak-to-peak (range)\n",
    "std_without_outlier = np.std(data_without_outlier, ddof=1)  # ddof=1 for sample standard deviation\n",
    "\n",
    "# Calculate measures for the dataset with outlier\n",
    "mean_with_outlier = np.mean(data_with_outlier)\n",
    "median_with_outlier = np.median(data_with_outlier)\n",
    "range_with_outlier = np.ptp(data_with_outlier)\n",
    "std_with_outlier = np.std(data_with_outlier, ddof=1)\n",
    "\n",
    "# Display results\n",
    "print(\"Without Outlier:\")\n",
    "print(\"Mean:\", mean_without_outlier)\n",
    "print(\"Median:\", median_without_outlier)\n",
    "print(\"Range:\", range_without_outlier)\n",
    "print(\"Standard Deviation:\", std_without_outlier)\n",
    "\n",
    "print(\"\\nWith Outlier:\")\n",
    "print(\"Mean:\", mean_with_outlier)\n",
    "print(\"Median:\", median_with_outlier)\n",
    "print(\"Range:\", range_with_outlier)\n",
    "print(\"Standard Deviation:\", std_with_outlier)\n"
   ]
  },
  {
   "cell_type": "code",
   "execution_count": null,
   "id": "fb6e27d2-b6b3-428c-8af6-5c1ddb6129ef",
   "metadata": {},
   "outputs": [],
   "source": []
  }
 ],
 "metadata": {
  "kernelspec": {
   "display_name": "Python 3 (ipykernel)",
   "language": "python",
   "name": "python3"
  },
  "language_info": {
   "codemirror_mode": {
    "name": "ipython",
    "version": 3
   },
   "file_extension": ".py",
   "mimetype": "text/x-python",
   "name": "python",
   "nbconvert_exporter": "python",
   "pygments_lexer": "ipython3",
   "version": "3.10.8"
  }
 },
 "nbformat": 4,
 "nbformat_minor": 5
}
